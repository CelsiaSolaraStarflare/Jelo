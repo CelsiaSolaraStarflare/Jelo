{
 "cells": [
  {
   "cell_type": "code",
   "execution_count": 1,
   "id": "df5501b2-c5cc-4c95-8a1b-40b7adad3a0e",
   "metadata": {},
   "outputs": [
    {
     "name": "stdout",
     "output_type": "stream",
     "text": [
      "Exports DataFrame:\n",
      "      State        Commodity       Country    Time Vessel Value ($US)  \\\n",
      "0  Illinois  01 Live Animals        Africa  Jul-16              7,185   \n",
      "2  Illinois  01 Live Animals  Asia - South  Jun-18             15,087   \n",
      "5  Illinois  01 Live Animals  Asia - Other  Sep-09              5,560   \n",
      "6  Illinois  01 Live Animals  Asia - Other  Dec-11            123,178   \n",
      "7  Illinois  01 Live Animals  Asia - Other  Jan-12             85,860   \n",
      "\n",
      "  Containerized Vessel Total Exports Value ($US) Vessel SWT (kg)  \\\n",
      "0                                          7,185               6   \n",
      "2                                         15,087           1,422   \n",
      "5                                          5,560           1,236   \n",
      "6                                        123,178           1,142   \n",
      "7                                         85,860           1,681   \n",
      "\n",
      "  Containerized Vessel Total Exports SWT (kg)  \n",
      "0                                           6  \n",
      "2                                       1,422  \n",
      "5                                       1,236  \n",
      "6                                       1,142  \n",
      "7                                       1,681  \n",
      "\n",
      "Imports DataFrame:\n",
      "      State        Commodity       Country    Time Vessel Value ($US)  \\\n",
      "0  Illinois  01 Live Animals  Asia - Other  Aug-19             11,840   \n",
      "1  Illinois  01 Live Animals  Asia - Other  Oct-19              9,472   \n",
      "2  Illinois  01 Live Animals  Asia - Other  Nov-19              4,440   \n",
      "3  Illinois  01 Live Animals  Asia - Other  Dec-19             10,360   \n",
      "4  Illinois  01 Live Animals  Asia - Other  Feb-20             11,840   \n",
      "\n",
      "  Customs Containerized Vessel Value (Gen) ($US) Vessel SWT (kg)  \\\n",
      "0                                         11,840          10,200   \n",
      "1                                          9,472           8,200   \n",
      "2                                          4,440           3,960   \n",
      "3                                         10,360           8,800   \n",
      "4                                         11,840          10,100   \n",
      "\n",
      "  Containerized Vessel SWT (Gen) (kg)  \n",
      "0                              10,200  \n",
      "1                               8,200  \n",
      "2                               3,960  \n",
      "3                               8,800  \n",
      "4                              10,100  \n"
     ]
    }
   ],
   "source": [
    "import pandas as pd\n",
    "\n",
    "# Load the CSV files, skipping the first row (metadata) and using the second row as the header\n",
    "dfe = pd.read_csv(\"custom_data/export/Illinois.csv\", skiprows=1, header=1)\n",
    "dfi = pd.read_csv(\"custom_data/import/Illinois.csv\", skiprows=1, header=1)\n",
    "\n",
    "#Drop the missing things\n",
    "dfe = dfe.dropna()\n",
    "dfi = dfi.dropna()\n",
    "\n",
    "# Display the first few rows to verify\n",
    "print(\"Exports DataFrame:\")\n",
    "print(dfe.head())\n",
    "print(\"\\nImports DataFrame:\")\n",
    "print(dfi.head())"
   ]
  },
  {
   "cell_type": "code",
   "execution_count": 2,
   "id": "ba3dff05-d51b-483a-a448-ddab0193ee55",
   "metadata": {},
   "outputs": [
    {
     "name": "stdout",
     "output_type": "stream",
     "text": [
      "Index(['State', 'Commodity', 'Country', 'Time', 'Vessel Value ($US)',\n",
      "       'Containerized Vessel Total Exports Value ($US)', 'Vessel SWT (kg)',\n",
      "       'Containerized Vessel Total Exports SWT (kg)'],\n",
      "      dtype='object')\n",
      "       Containerized Vessel Total Exports Value ($US)  \\\n",
      "0                                               7,185   \n",
      "2                                              15,087   \n",
      "5                                               5,560   \n",
      "6                                             123,178   \n",
      "7                                              85,860   \n",
      "...                                               ...   \n",
      "110705                                          5,457   \n",
      "110706                                         20,219   \n",
      "110707                                          5,004   \n",
      "110708                                         28,620   \n",
      "110709                                         10,898   \n",
      "\n",
      "       Containerized Vessel Total Exports SWT (kg)  \n",
      "0                                                6  \n",
      "2                                            1,422  \n",
      "5                                            1,236  \n",
      "6                                            1,142  \n",
      "7                                            1,681  \n",
      "...                                            ...  \n",
      "110705                                         361  \n",
      "110706                                      10,055  \n",
      "110707                                       1,547  \n",
      "110708                                       6,486  \n",
      "110709                                       2,239  \n",
      "\n",
      "[104170 rows x 2 columns]\n"
     ]
    }
   ],
   "source": [
    "print(dfe.columns)\n",
    "dfe_value = dfe[['Containerized Vessel Total Exports Value ($US)','Containerized Vessel Total Exports SWT (kg)']]\n",
    "print(dfe_value)"
   ]
  },
  {
   "cell_type": "code",
   "execution_count": 3,
   "id": "c5c985b2-c033-4d2f-9b1f-4eeee9f34586",
   "metadata": {},
   "outputs": [
    {
     "name": "stdout",
     "output_type": "stream",
     "text": [
      "          Time                                    Commodity     State  \\\n",
      "0       Jul-16                              01 Live Animals  Illinois   \n",
      "2       Jun-18                              01 Live Animals  Illinois   \n",
      "5       Sep-09                              01 Live Animals  Illinois   \n",
      "6       Dec-11                              01 Live Animals  Illinois   \n",
      "7       Jan-12                              01 Live Animals  Illinois   \n",
      "...        ...                                          ...       ...   \n",
      "110705  Jul-24  98 Special Classification Provisions, Nesoi  Illinois   \n",
      "110706  Dec-24  98 Special Classification Provisions, Nesoi  Illinois   \n",
      "110707  Feb-25  98 Special Classification Provisions, Nesoi  Illinois   \n",
      "110708  Mar-25  98 Special Classification Provisions, Nesoi  Illinois   \n",
      "110709  Apr-25  98 Special Classification Provisions, Nesoi  Illinois   \n",
      "\n",
      "              Country  \n",
      "0              Africa  \n",
      "2        Asia - South  \n",
      "5        Asia - Other  \n",
      "6        Asia - Other  \n",
      "7        Asia - Other  \n",
      "...               ...  \n",
      "110705  South America  \n",
      "110706  South America  \n",
      "110707  South America  \n",
      "110708  South America  \n",
      "110709  South America  \n",
      "\n",
      "[104170 rows x 4 columns]\n"
     ]
    }
   ],
   "source": [
    "\n",
    "dfe = dfe[['Time','Commodity','State','Country']]\n",
    "print(dfe)"
   ]
  },
  {
   "cell_type": "code",
   "execution_count": 4,
   "id": "2783776f-d940-4afb-b638-3c96b6e0f77f",
   "metadata": {},
   "outputs": [
    {
     "name": "stdout",
     "output_type": "stream",
     "text": [
      "[1197.5          10.60970464    4.49838188 ...    3.23464771    4.41258094\n",
      "    4.8673515 ]\n"
     ]
    }
   ],
   "source": [
    "import numpy as np\n",
    "\n",
    "value = dfe_value.iloc[:, 0].str.replace(',', '').astype(float).to_numpy()\n",
    "weight = dfe_value.iloc[:, 1].str.replace(',', '').astype(float).to_numpy()\n",
    "\n",
    "dfe_per_kg_value = value / weight\n",
    "print(dfe_per_kg_value)\n",
    "\n",
    "\n"
   ]
  },
  {
   "cell_type": "code",
   "execution_count": 7,
   "id": "c7f251c0-0f55-4476-90ed-4532eb50da57",
   "metadata": {},
   "outputs": [
    {
     "name": "stdout",
     "output_type": "stream",
     "text": [
      "torch.Size([104170, 4])\n",
      "tensor([[  0,  96,   0,   0],\n",
      "        [  0, 115,   0,   2],\n",
      "        [  0, 193,   0,   1],\n",
      "        ...,\n",
      "        [  0,  69,  96,   8],\n",
      "        [  0, 139,  96,   8],\n",
      "        [  0,  17,  96,   8]])\n",
      "\n",
      "Exports DataFrame:\n",
      "     Time        Commodity     State       Country\n",
      "0  Jul-16  01 Live Animals  Illinois        Africa\n",
      "2  Jun-18  01 Live Animals  Illinois  Asia - South\n",
      "5  Sep-09  01 Live Animals  Illinois  Asia - Other\n",
      "6  Dec-11  01 Live Animals  Illinois  Asia - Other\n",
      "7  Jan-12  01 Live Animals  Illinois  Asia - Other\n"
     ]
    }
   ],
   "source": [
    "import torch\n",
    "# Convert columns to categorical and get integer codes\n",
    "state_ids = dfe['State'].astype('category').cat.codes\n",
    "commodity_ids = dfe['Commodity'].astype('category').cat.codes\n",
    "country_ids = dfe['Country'].astype('category').cat.codes\n",
    "time_ids = dfe['Time'].astype('category').cat.codes  # Treat Time as categorical\n",
    "\n",
    "# Convert to PyTorch tensors\n",
    "state_tensor = torch.tensor(state_ids.values, dtype=torch.long)\n",
    "time_tensor = torch.tensor(time_ids.values, dtype=torch.long)\n",
    "commodity_tensor = torch.tensor(commodity_ids.values, dtype=torch.long)\n",
    "country_tensor = torch.tensor(country_ids.values, dtype=torch.long)\n",
    "\n",
    "# Combine tensors\n",
    "combined_input = torch.stack([state_tensor, time_tensor, commodity_tensor, country_tensor], dim=1)\n",
    "\n",
    "# Print shape and tensor\n",
    "print(combined_input.shape)\n",
    "print(combined_input)\n",
    "\n",
    "# Display the first few rows of the DataFrame to verify\n",
    "print(\"\\nExports DataFrame:\")\n",
    "print(dfe.head())"
   ]
  },
  {
   "cell_type": "code",
   "execution_count": 1,
   "id": "9e0405b5-8159-4a3d-9748-acfbc9c63592",
   "metadata": {},
   "outputs": [
    {
     "name": "stdout",
     "output_type": "stream",
     "text": [
      "Using device: cpu\n"
     ]
    }
   ],
   "source": [
    "# Import necessary libraries\n",
    "import pandas as pd\n",
    "import torch\n",
    "import torch.nn as nn\n",
    "import numpy as np\n",
    "from sklearn.preprocessing import StandardScaler\n",
    "import warnings\n",
    "warnings.filterwarnings('ignore')  # Suppress warnings for cleaner output\n",
    "\n",
    "# Set device for PyTorch\n",
    "device = torch.device('cuda' if torch.cuda.is_available() else 'cpu')\n",
    "print(f\"Using device: {device}\")"
   ]
  },
  {
   "cell_type": "code",
   "execution_count": 2,
   "id": "dedfd88e-f4dc-43fe-93dc-bbc6ecf3b31e",
   "metadata": {},
   "outputs": [
    {
     "name": "stdout",
     "output_type": "stream",
     "text": [
      "S4 model defined\n"
     ]
    }
   ],
   "source": [
    "# Simplified S4 Layer\n",
    "class S4Layer(nn.Module):\n",
    "    def __init__(self, input_dim, state_dim, output_dim):\n",
    "        super(S4Layer, self).__init__()\n",
    "        self.input_dim = input_dim\n",
    "        self.state_dim = state_dim\n",
    "        self.output_dim = output_dim\n",
    "        \n",
    "        # State-space parameters\n",
    "        self.A = nn.Parameter(torch.randn(state_dim, state_dim))\n",
    "        self.B = nn.Parameter(torch.randn(state_dim, input_dim))\n",
    "        self.C = nn.Parameter(torch.randn(output_dim, state_dim))\n",
    "        self.D = nn.Parameter(torch.randn(output_dim, input_dim))\n",
    "        \n",
    "    def forward(self, x):\n",
    "        # x: (batch, seq_len, input_dim)\n",
    "        batch, seq_len, _ = x.size()\n",
    "        state = torch.zeros(batch, self.state_dim, device=x.device)\n",
    "        outputs = []\n",
    "        \n",
    "        # Discrete-time state-space update\n",
    "        for t in range(seq_len):\n",
    "            state = state @ self.A + x[:, t, :] @ self.B.T\n",
    "            output = state @ self.C.T + x[:, t, :] @ self.D.T\n",
    "            outputs.append(output)\n",
    "        \n",
    "        return torch.stack(outputs, dim=1)  # (batch, seq_len, output_dim)\n",
    "\n",
    "# S4-based Demand Forecasting Model\n",
    "class S4DemandModel(nn.Module):\n",
    "    def __init__(self, input_dim, hidden_dim, state_dim, output_dim):\n",
    "        super(S4DemandModel, self).__init__()\n",
    "        self.input_layer = nn.Linear(input_dim, hidden_dim)\n",
    "        self.s4_layer = S4Layer(hidden_dim, state_dim, hidden_dim)\n",
    "        self.output_layer = nn.Linear(hidden_dim, output_dim)\n",
    "        self.relu = nn.ReLU()\n",
    "        \n",
    "    def forward(self, x):\n",
    "        x = self.relu(self.input_layer(x))\n",
    "        x = self.s4_layer(x)\n",
    "        x = self.output_layer(x)\n",
    "        return x\n",
    "\n",
    "print(\"S4 model defined\")"
   ]
  },
  {
   "cell_type": "code",
   "execution_count": 4,
   "id": "d16dfbe0-1eb1-4d1d-9254-42803376d8a5",
   "metadata": {},
   "outputs": [
    {
     "name": "stdout",
     "output_type": "stream",
     "text": [
      "Column names in CSV: ['Current date: 07/30/2025 2:49 PM (Eastern Daylight Time)', 'Unnamed: 1', 'Unnamed: 2', 'Unnamed: 3', 'Unnamed: 4', 'Unnamed: 5', 'Unnamed: 6', 'Unnamed: 7']\n"
     ]
    },
    {
     "ename": "ValueError",
     "evalue": "No 'Time' column found in the CSV. Please check column names.",
     "output_type": "error",
     "traceback": [
      "\u001b[31m---------------------------------------------------------------------------\u001b[39m",
      "\u001b[31mValueError\u001b[39m                                Traceback (most recent call last)",
      "\u001b[36mCell\u001b[39m\u001b[36m \u001b[39m\u001b[32mIn[4]\u001b[39m\u001b[32m, line 43\u001b[39m\n\u001b[32m     40\u001b[39m     \u001b[38;5;28;01mreturn\u001b[39;00m dfe, scaler, time_col\n\u001b[32m     42\u001b[39m \u001b[38;5;66;03m# Execute preprocessing\u001b[39;00m\n\u001b[32m---> \u001b[39m\u001b[32m43\u001b[39m dfe, scaler, time_col = \u001b[43mload_and_preprocess_data\u001b[49m\u001b[43m(\u001b[49m\u001b[43m)\u001b[49m\n\u001b[32m     44\u001b[39m \u001b[38;5;28mprint\u001b[39m(\u001b[33m\"\u001b[39m\u001b[33mDataFrame Head:\u001b[39m\u001b[33m\"\u001b[39m)\n\u001b[32m     45\u001b[39m \u001b[38;5;28mprint\u001b[39m(dfe[[\u001b[33m'\u001b[39m\u001b[33mState\u001b[39m\u001b[33m'\u001b[39m, \u001b[33m'\u001b[39m\u001b[33mCommodity\u001b[39m\u001b[33m'\u001b[39m, \u001b[33m'\u001b[39m\u001b[33mCountry\u001b[39m\u001b[33m'\u001b[39m, time_col, \u001b[33m'\u001b[39m\u001b[33mVessel Value ($US)\u001b[39m\u001b[33m'\u001b[39m, \u001b[33m'\u001b[39m\u001b[33mVessel SWT (kg)\u001b[39m\u001b[33m'\u001b[39m]].head())\n",
      "\u001b[36mCell\u001b[39m\u001b[36m \u001b[39m\u001b[32mIn[4]\u001b[39m\u001b[32m, line 17\u001b[39m, in \u001b[36mload_and_preprocess_data\u001b[39m\u001b[34m()\u001b[39m\n\u001b[32m     14\u001b[39m         \u001b[38;5;28;01mbreak\u001b[39;00m\n\u001b[32m     16\u001b[39m \u001b[38;5;28;01mif\u001b[39;00m time_col \u001b[38;5;129;01mis\u001b[39;00m \u001b[38;5;28;01mNone\u001b[39;00m:\n\u001b[32m---> \u001b[39m\u001b[32m17\u001b[39m     \u001b[38;5;28;01mraise\u001b[39;00m \u001b[38;5;167;01mValueError\u001b[39;00m(\u001b[33m\"\u001b[39m\u001b[33mNo \u001b[39m\u001b[33m'\u001b[39m\u001b[33mTime\u001b[39m\u001b[33m'\u001b[39m\u001b[33m column found in the CSV. Please check column names.\u001b[39m\u001b[33m\"\u001b[39m)\n\u001b[32m     19\u001b[39m \u001b[38;5;66;03m# Convert 'Time' to datetime and sort\u001b[39;00m\n\u001b[32m     20\u001b[39m dfe[time_col] = pd.to_datetime(dfe[time_col], \u001b[38;5;28mformat\u001b[39m=\u001b[33m'\u001b[39m\u001b[33m%\u001b[39m\u001b[33mb-\u001b[39m\u001b[33m%\u001b[39m\u001b[33my\u001b[39m\u001b[33m'\u001b[39m, errors=\u001b[33m'\u001b[39m\u001b[33mcoerce\u001b[39m\u001b[33m'\u001b[39m)\n",
      "\u001b[31mValueError\u001b[39m: No 'Time' column found in the CSV. Please check column names."
     ]
    }
   ],
   "source": [
    "# Load and preprocess data\n",
    "def load_and_preprocess_data():\n",
    "    # Load CSV (exports only for now)\n",
    "    dfe = pd.read_csv(\"custom_data/export/Illinois.csv\", skiprows=1, header=0)\n",
    "    \n",
    "    # Print column names to debug\n",
    "    print(\"Column names in CSV:\", dfe.columns.tolist())\n",
    "    \n",
    "    # Identify the 'Time' column (case-insensitive, strip spaces)\n",
    "    time_col = None\n",
    "    for col in dfe.columns:\n",
    "        if col.strip().lower() == 'time':\n",
    "            time_col = col\n",
    "            break\n",
    "    \n",
    "    if time_col is None:\n",
    "        raise ValueError(\"No 'Time' column found in the CSV. Please check column names.\")\n",
    "    \n",
    "    # Convert 'Time' to datetime and sort\n",
    "    dfe[time_col] = pd.to_datetime(dfe[time_col], format='%b-%y', errors='coerce')\n",
    "    if dfe[time_col].isna().any():\n",
    "        print(f\"Warning: Some '{time_col}' values could not be parsed. Filling with forward-fill.\")\n",
    "        dfe[time_col] = dfe[time_col].fillna(method='ffill')\n",
    "    \n",
    "    dfe = dfe.sort_values(['State', 'Commodity', 'Country', time_col])\n",
    "    \n",
    "    # Encode categorical variables\n",
    "    dfe['State_id'] = dfe['State'].astype('category').cat.codes\n",
    "    dfe['Commodity_id'] = dfe['Commodity'].astype('category').cat.codes\n",
    "    dfe['Country_id'] = dfe['Country'].astype('category').cat.codes\n",
    "    \n",
    "    # Convert Time to numeric (months since 2000-01-01)\n",
    "    reference_date = pd.to_datetime('2000-01-01')\n",
    "    dfe['Time_id'] = ((dfe[time_col].dt.year - reference_date.year) * 12 + dfe[time_col].dt.month).astype(int)\n",
    "    \n",
    "    # Normalize Vessel Value ($US)\n",
    "    scaler = StandardScaler()\n",
    "    dfe['Vessel Value ($US)'] = scaler.fit_transform(dfe[['Vessel Value ($US)']].fillna(0))\n",
    "    \n",
    "    return dfe, scaler, time_col\n",
    "\n",
    "# Execute preprocessing\n",
    "dfe, scaler, time_col = load_and_preprocess_data()\n",
    "print(\"DataFrame Head:\")\n",
    "print(dfe[['State', 'Commodity', 'Country', time_col, 'Vessel Value ($US)', 'Vessel SWT (kg)']].head())\n",
    "print(\"\\nUnique Time Values:\", dfe[time_col].unique())"
   ]
  },
  {
   "cell_type": "code",
   "execution_count": null,
   "id": "6f9d5306-6353-47c8-8f32-cf95db6f0fa0",
   "metadata": {},
   "outputs": [],
   "source": []
  }
 ],
 "metadata": {
  "kernelspec": {
   "display_name": "Python 3 (ipykernel)",
   "language": "python",
   "name": "python3"
  },
  "language_info": {
   "codemirror_mode": {
    "name": "ipython",
    "version": 3
   },
   "file_extension": ".py",
   "mimetype": "text/x-python",
   "name": "python",
   "nbconvert_exporter": "python",
   "pygments_lexer": "ipython3",
   "version": "3.12.0"
  }
 },
 "nbformat": 4,
 "nbformat_minor": 5
}
